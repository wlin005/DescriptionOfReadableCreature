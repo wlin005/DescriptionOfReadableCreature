{
  "nbformat": 4,
  "nbformat_minor": 0,
  "metadata": {
    "colab": {
      "private_outputs": true,
      "provenance": [],
      "mount_file_id": "1v4e_XPksWPX5cqnNIJdECE0etB1nuzgV",
      "authorship_tag": "ABX9TyO+FT34hqY+Jst7T90YE7pV",
      "include_colab_link": true
    },
    "kernelspec": {
      "name": "python3",
      "display_name": "Python 3"
    },
    "language_info": {
      "name": "python"
    },
    "accelerator": "GPU",
    "gpuClass": "standard"
  },
  "cells": [
    {
      "cell_type": "markdown",
      "metadata": {
        "id": "view-in-github",
        "colab_type": "text"
      },
      "source": [
        "<a href=\"https://colab.research.google.com/github/wlin005/DescriptionOfReadableCreature/blob/main/week9_stable_diffussion.ipynb\" target=\"_parent\"><img src=\"https://colab.research.google.com/assets/colab-badge.svg\" alt=\"Open In Colab\"/></a>"
      ]
    },
    {
      "cell_type": "markdown",
      "source": [],
      "metadata": {
        "id": "KHIQbGy7CMzI"
      }
    },
    {
      "cell_type": "markdown",
      "source": [
        "**\"Making friend\". This story is about a virtual turtle who traveled from London to China for catching up with a new friend living in China.  \n",
        "\n",
        "I use a Stable diffusion model with my text to generate images. The inspiration sparks from to my turtle who lives alone in my hometown. **\n",
        "\n",
        " \n",
        " \n",
        "\n",
        "**What I learn in the model;  \n",
        "\n",
        "   1.I learn how to generate one picture to multiple and matrix multiples by making rows and cols; \n",
        "\n",
        "   2.how to use seeds to control the same picture; \n",
        "\n",
        "   3.How to change the size of image rather than square; **\n",
        "\n",
        " \n",
        " \n",
        "\n",
        "Some downsides of generating image using the model of stable-diffusion-v1-2, \n",
        "\n",
        "The model is not very well to express emotions on turtle such as laughter \n",
        "\n",
        "It can well to understand the text for example, turtle becomes Peking duck when I give the prompt\"a photograph of two turtles sit on the sofa and eat peking duck at Chinese restaurant\" \n",
        "\n",
        " \n",
        "\n",
        " \n",
        "\n",
        "My question: how to create myself model rather than stable-diffusion-v1-2  "
      ],
      "metadata": {
        "id": "dR0rBjnDDf-q"
      }
    },
    {
      "cell_type": "markdown",
      "source": [
        "First, please make sure you are using a GPU runtime to run this notebook, so inference is much faster. If the following command fails, use the Runtime menu above and select Change runtime type."
      ],
      "metadata": {
        "id": "gvbxXQkhChjX"
      }
    },
    {
      "cell_type": "code",
      "execution_count": null,
      "metadata": {
        "id": "XZvz21jOA4Ju"
      },
      "outputs": [],
      "source": [
        "!nvidia-smi"
      ]
    },
    {
      "cell_type": "code",
      "source": [
        "!pip install diffusers==0.11.1\n",
        "!pip install transformers scipy ftfy accelerate"
      ],
      "metadata": {
        "id": "SPe39fmHCXAt"
      },
      "execution_count": null,
      "outputs": []
    },
    {
      "cell_type": "markdown",
      "source": [
        "stable-diffusion-v1-2 is generating photo-realistic images given any text input"
      ],
      "metadata": {
        "id": "04Hr5IwgDQUQ"
      }
    },
    {
      "cell_type": "code",
      "source": [
        "import torch\n",
        "from diffusers import StableDiffusionPipeline\n",
        "\n",
        "pipe = StableDiffusionPipeline.from_pretrained(\"CompVis/stable-diffusion-v1-2\", torch_dtype=torch.float16)  "
      ],
      "metadata": {
        "id": "IqJVAtScCypc"
      },
      "execution_count": null,
      "outputs": []
    },
    {
      "cell_type": "code",
      "source": [
        "pipe = pipe.to(\"cuda\")"
      ],
      "metadata": {
        "id": "gIsjjlG-ESyR"
      },
      "execution_count": null,
      "outputs": []
    },
    {
      "cell_type": "code",
      "source": [
        "prompt = \"a photograph of a turtle lives near by Big Ben with England flag in London\"\n",
        "image = pipe(prompt).images[0]  # image here is in [PIL format](https://pillow.readthedocs.io/en/stable/)\n",
        "\n",
        "# Now to display an image you can either save it such as:\n",
        "image.save(f\"turtle1.png\")\n",
        "\n",
        "# or if you're in a google colab you can directly display it with \n",
        "image "
      ],
      "metadata": {
        "id": "08dhGdYdEcTa"
      },
      "execution_count": null,
      "outputs": []
    },
    {
      "cell_type": "code",
      "source": [
        "from google.colab import drive\n",
        "drive.mount('/content/drive')"
      ],
      "metadata": {
        "id": "5mIAtqlBHsQR"
      },
      "execution_count": null,
      "outputs": []
    },
    {
      "cell_type": "markdown",
      "source": [
        "Test1,2,3; There are 3 different pictures base on one prompt.Prompt: \"a photograph of an turtle lives big beg or Thames river with England flag in London \" \n",
        "\n",
        "image1: The image just shows two key words, the turtle companied by the England flag.\n",
        "\n",
        "image2&3: The turtle divied into and floated on Thames river nearby Big Ben.\n",
        "\n",
        "\n",
        "\n"
      ],
      "metadata": {
        "id": "jFX-F9EOFwN5"
      }
    },
    {
      "cell_type": "code",
      "source": [
        "from IPython.display import Image\n",
        "Image('/content/drive/MyDrive/Colab Notebooks/week9/22004.png')"
      ],
      "metadata": {
        "id": "VyBRBUh4HxDj"
      },
      "execution_count": null,
      "outputs": []
    },
    {
      "cell_type": "code",
      "source": [
        "prompt = \"a photograph of a turtle lives near by Big Ben with England flag in London\"\n",
        "image = pipe(prompt).images[0]  # image here is in [PIL format](https://pillow.readthedocs.io/en/stable/)\n",
        "\n",
        "# Now to display an image you can either save it such as:\n",
        "image.save(f\"turtle2.png\")\n",
        "\n",
        "# or if you're in a google colab you can directly display it with \n",
        "image \n"
      ],
      "metadata": {
        "id": "krDcOOnSB415"
      },
      "execution_count": null,
      "outputs": []
    },
    {
      "cell_type": "code",
      "source": [
        "prompt = \"a photograph of an turtle swam Thames with England flag in London\"\n",
        "image = pipe(prompt).images[0]  # image here is in [PIL format](https://pillow.readthedocs.io/en/stable/)\n",
        "\n",
        "# Now to display an image you can either save it such as:\n",
        "image.save(f\"turtle3.png\")\n",
        "\n",
        "# or if you're in a google colab you can directly display it with \n",
        "image"
      ],
      "metadata": {
        "id": "3PVxyiQIF9iP"
      },
      "execution_count": null,
      "outputs": []
    },
    {
      "cell_type": "code",
      "source": [
        "prompt = \"a photograph of an turtle hold a phone in its room\"\n",
        "image = pipe(prompt).images[0]  # image here is in [PIL format](https://pillow.readthedocs.io/en/stable/)\n",
        "\n",
        "# Now to display an image you can either save it such as:\n",
        "image.save(f\"turtle4.png\")\n",
        "\n",
        "# or if you're in a google colab you can directly display it with \n",
        "image"
      ],
      "metadata": {
        "id": "AOT6Kq1IOPTZ"
      },
      "execution_count": null,
      "outputs": []
    },
    {
      "cell_type": "markdown",
      "source": [
        "Test2. This is another way to generate the picture by choose the number of seeds, which can make the same result if number of seeds is same. But I would change the image when I run this script again.\n",
        "\n",
        "This is a nice view from the turtle"
      ],
      "metadata": {
        "id": "nQRB_hcPLACK"
      }
    },
    {
      "cell_type": "code",
      "source": [
        "import torch\n",
        "\n",
        "generator = torch.Generator(\"cuda\").manual_seed(22004)\n",
        "\n",
        "image = pipe(prompt, generator=generator).images[0]\n",
        "\n",
        "image.save(f\"turtle5.png\")\n",
        "\n",
        "image"
      ],
      "metadata": {
        "id": "l4BZtxXGFvo7"
      },
      "execution_count": null,
      "outputs": []
    },
    {
      "cell_type": "code",
      "source": [
        "import torch\n",
        "\n",
        "generator = torch.Generator(\"cuda\").manual_seed(204)\n",
        "\n",
        "image = pipe(prompt, generator=generator).images[0]\n",
        "image.save(f\"turtle5.png\")\n",
        "image"
      ],
      "metadata": {
        "id": "EW6DW4UhQ305"
      },
      "execution_count": null,
      "outputs": []
    },
    {
      "cell_type": "markdown",
      "source": [
        "seeds(204)"
      ],
      "metadata": {
        "id": "eIQQZxy9SN42"
      }
    },
    {
      "cell_type": "markdown",
      "source": [],
      "metadata": {
        "id": "Bg4lW7cUSMn9"
      }
    },
    {
      "cell_type": "markdown",
      "source": [
        "Stpe2: multile imagines\n",
        "\n",
        "The code is for multiple pictures to be generated\n",
        "\n",
        "Test1 prompt = [\"a photograph of an turtle riding a horse or plane or train\"]\n",
        "\n",
        "Turtle choose different  traffer ways to China. Some interesting thing is that it became part of horse in order to speed up as you can see the right1 picture."
      ],
      "metadata": {
        "id": "TkO1X057MzfJ"
      }
    },
    {
      "cell_type": "code",
      "source": [
        "from PIL import Image\n",
        "\n",
        "def image_grid(imgs, rows, cols):\n",
        "    assert len(imgs) == rows*cols\n",
        "\n",
        "    w, h = imgs[0].size\n",
        "    grid = Image.new('RGB', size=(cols*w, rows*h))\n",
        "    grid_w, grid_h = grid.size\n",
        "    \n",
        "    for i, img in enumerate(imgs):\n",
        "        grid.paste(img, box=(i%cols*w, i//cols*h))\n",
        "    return grid"
      ],
      "metadata": {
        "id": "7T7CCZe2MRlk"
      },
      "execution_count": null,
      "outputs": []
    },
    {
      "cell_type": "code",
      "source": [
        "num_images = 3\n",
        "prompt = [\"a laughting turtle\"] * num_images\n",
        "\n",
        "images = pipe(prompt).images\n",
        "\n",
        "grid = image_grid(images, rows=1, cols=3)\n",
        "grid.save(f\"turtle5.png\")\n",
        "\n",
        "grid"
      ],
      "metadata": {
        "id": "c8G0sQYQP-WI"
      },
      "execution_count": null,
      "outputs": []
    },
    {
      "cell_type": "markdown",
      "source": [
        "The Turtle learns how to run like horse for this journey.\n"
      ],
      "metadata": {
        "id": "RrSOYSv7QceQ"
      }
    },
    {
      "cell_type": "code",
      "source": [
        "num_images = 3\n",
        "prompt = [\"a photograph of an turtle riding a horse or plane or train or bus\"] * num_images\n",
        "\n",
        "images = pipe(prompt).images\n",
        "\n",
        "grid = image_grid(images, rows=1, cols=3)\n",
        "grid.save(f\"turtle5.png\")\n",
        "\n",
        "grid"
      ],
      "metadata": {
        "id": "9Xc7SsAyMb9o"
      },
      "execution_count": null,
      "outputs": []
    },
    {
      "cell_type": "code",
      "source": [
        "num_images = 3\n",
        "prompt = [\"a photograph of an turtle taking on a train\"] * num_images\n",
        "\n",
        "images = pipe(prompt).images\n",
        "\n",
        "grid = image_grid(images, rows=1, cols=3)\n",
        "grid"
      ],
      "metadata": {
        "id": "_w_0E0pRT4Ll"
      },
      "execution_count": null,
      "outputs": []
    },
    {
      "cell_type": "code",
      "source": [
        "num_images = 3\n",
        "prompt = [\"a photograph of an turtle took on train\"] * num_images\n",
        "\n",
        "images = pipe(prompt).images\n",
        "\n",
        "grid = image_grid(images, rows=1, cols=3)\n",
        "grid.save(f\"turtle7.png\")\n",
        "grid"
      ],
      "metadata": {
        "id": "GyErJ35vQCNn"
      },
      "execution_count": null,
      "outputs": []
    },
    {
      "cell_type": "code",
      "source": [
        "num_images = 3\n",
        "prompt = [\"a photograph of an turtle was in the airport\"] * num_images\n",
        "\n",
        "images = pipe(prompt).images\n",
        "\n",
        "grid = image_grid(images, rows=1, cols=3)\n",
        "grid.save(f\"turtle7.png\")\n",
        "grid"
      ],
      "metadata": {
        "id": "So3MniDnUQTC"
      },
      "execution_count": null,
      "outputs": []
    },
    {
      "cell_type": "code",
      "source": [
        "num_images = 3\n",
        "prompt = [\"a photograph of an turtle took a package on its shell in the airport\"] * num_images\n",
        "\n",
        "images = pipe(prompt).images\n",
        "\n",
        "grid = image_grid(images, rows=1, cols=3)\n",
        "grid.save(f\"turtle7.png\")\n",
        "grid"
      ],
      "metadata": {
        "id": "Trp1ohcwU4Kv"
      },
      "execution_count": null,
      "outputs": []
    },
    {
      "cell_type": "code",
      "source": [
        "num_images = 3\n",
        "prompt = [\"a photograph of an turtle taking or plane in the air\"] * num_images\n",
        "\n",
        "images = pipe(prompt).images\n",
        "\n",
        "grid = image_grid(images, rows=1, cols=3)\n",
        "grid"
      ],
      "metadata": {
        "id": "y_oQmgqLROna"
      },
      "execution_count": null,
      "outputs": []
    },
    {
      "cell_type": "markdown",
      "source": [
        "Test2: It learns different skills like flying"
      ],
      "metadata": {
        "id": "Wfm43dH1RgrG"
      }
    },
    {
      "cell_type": "code",
      "source": [
        "num_images = 3\n",
        "prompt = [\"a photograph of an turtle taking frist calss on a plane\"] * num_images\n",
        "\n",
        "images = pipe(prompt).images\n",
        "\n",
        "grid = image_grid(images, rows=1, cols=3)\n",
        "grid"
      ],
      "metadata": {
        "id": "B6MVP5TPRs2I"
      },
      "execution_count": null,
      "outputs": []
    },
    {
      "cell_type": "markdown",
      "source": [
        "It sit on the first-class this time."
      ],
      "metadata": {
        "id": "qreiJAJmS0Xf"
      }
    },
    {
      "cell_type": "markdown",
      "source": [
        "Test3: it took train to China for saving money."
      ],
      "metadata": {
        "id": "GyR2ABQeTesg"
      }
    },
    {
      "cell_type": "markdown",
      "source": [
        "It became train driver."
      ],
      "metadata": {
        "id": "-z3bCl4TUhEI"
      }
    },
    {
      "cell_type": "markdown",
      "source": [
        "The code is for matrix pictures to be generated"
      ],
      "metadata": {
        "id": "sPr0wZYxZyH2"
      }
    },
    {
      "cell_type": "code",
      "source": [
        "num_cols = 3\n",
        "num_rows = 3\n",
        "\n",
        "prompt = [\"a photograph of an turtle standing on world map\"] * num_cols\n",
        "\n",
        "all_images = []\n",
        "for i in range(num_rows):\n",
        "  images = pipe(prompt).images\n",
        "  all_images.extend(images)\n",
        "\n",
        "grid = image_grid(all_images, rows=num_rows, cols=num_cols)\n",
        "grid"
      ],
      "metadata": {
        "id": "jDvas7omVXnO"
      },
      "execution_count": null,
      "outputs": []
    },
    {
      "cell_type": "markdown",
      "source": [
        "It traveled Australia, Eastern European and so on.\n"
      ],
      "metadata": {
        "id": "jS3j_Pt5WW9v"
      }
    },
    {
      "cell_type": "markdown",
      "source": [],
      "metadata": {
        "id": "3_oH_RpxXRys"
      }
    },
    {
      "cell_type": "code",
      "source": [
        "num_cols = 3\n",
        "num_rows = 3\n",
        "\n",
        "prompt = [\"a photograph of an turtle standing London on world map\"] * num_cols\n",
        "\n",
        "all_images = []\n",
        "for i in range(num_rows):\n",
        "  images = pipe(prompt).images\n",
        "  all_images.extend(images)\n",
        "\n",
        "grid = image_grid(all_images, rows=num_rows, cols=num_cols)\n",
        "grid"
      ],
      "metadata": {
        "id": "5Z_RsSnTXXEB"
      },
      "execution_count": null,
      "outputs": []
    },
    {
      "cell_type": "markdown",
      "source": [
        "This propmt is not sucessul becauset the images did not show the turtle on the site of London.\n"
      ],
      "metadata": {
        "id": "vB5YT9RQcNvZ"
      }
    },
    {
      "cell_type": "code",
      "source": [
        "num_cols = 3\n",
        "num_rows = 1\n",
        "\n",
        "prompt = [\"a photograph of an turtles came to the great wall in China\"] * num_cols\n",
        "\n",
        "all_images = []\n",
        "for i in range(num_rows):\n",
        "  images = pipe(prompt).images\n",
        "  all_images.extend(images)\n",
        "\n",
        "grid = image_grid(all_images, rows=num_rows, cols=num_cols)\n",
        "grid"
      ],
      "metadata": {
        "id": "kMPjfCC9d18t"
      },
      "execution_count": null,
      "outputs": []
    },
    {
      "cell_type": "code",
      "source": [
        "num_cols = 3\n",
        "num_rows = 1\n",
        "\n",
        "prompt = [\"a photograph of two turtles came to the great wall in China\"] * num_cols\n",
        "\n",
        "all_images = []\n",
        "for i in range(num_rows):\n",
        "  images = pipe(prompt).images\n",
        "  all_images.extend(images)\n",
        "\n",
        "grid = image_grid(all_images, rows=num_rows, cols=num_cols)\n",
        "grid"
      ],
      "metadata": {
        "id": "_iaYvwLfhEQ7"
      },
      "execution_count": null,
      "outputs": []
    },
    {
      "cell_type": "code",
      "source": [
        "num_cols = 3\n",
        "num_rows = 1\n",
        "\n",
        "prompt = [\"a photograph of two turtles sit on the sofa and eat peking duck at Chinese restaurant\"] * num_cols\n",
        "\n",
        "all_images = []\n",
        "for i in range(num_rows):\n",
        "  images = pipe(prompt).images\n",
        "  all_images.extend(images)\n",
        "\n",
        "grid = image_grid(all_images, rows=num_rows, cols=num_cols)\n",
        "grid"
      ],
      "metadata": {
        "id": "bkdOmJKDXLCP"
      },
      "execution_count": null,
      "outputs": []
    },
    {
      "cell_type": "code",
      "source": [
        "!pip install diffusers\n",
        "!pip install transformers"
      ],
      "metadata": {
        "id": "Q8dixfuUbqpm"
      },
      "execution_count": null,
      "outputs": []
    },
    {
      "cell_type": "code",
      "source": [
        "import platform\n",
        "if platform.processor() == 'arm':\n",
        "    print(\"Detected Mac M1/M2\")\n",
        "    device = 'mps'\n",
        "else:\n",
        "    print(\"Possibliy detected GPU\")\n",
        "    device = 'cuda'"
      ],
      "metadata": {
        "id": "Bc_q3Wq4bxyG"
      },
      "execution_count": null,
      "outputs": []
    },
    {
      "cell_type": "code",
      "source": [
        "from diffusers import StableDiffusionPipeline\n",
        "generator = StableDiffusionPipeline.from_pretrained(\"runwayml/stable-diffusion-v1-5\")\n",
        "generator = generator.to(device)"
      ],
      "metadata": {
        "id": "nz8FHdDMb1WC"
      },
      "execution_count": null,
      "outputs": []
    },
    {
      "cell_type": "code",
      "source": [
        "!pip install accelerate"
      ],
      "metadata": {
        "id": "qfTzKBhObeva"
      },
      "execution_count": null,
      "outputs": []
    },
    {
      "cell_type": "code",
      "source": [
        "from diffusers import StableDiffusionControlNetPipeline, ControlNetModel\n",
        "import torch\n",
        "\n",
        "controlnet = ControlNetModel.from_pretrained(\"lllyasviel/sd-controlnet-canny\", torch_dtype=torch.float16)"
      ],
      "metadata": {
        "id": "DeADiG_1bkNW"
      },
      "execution_count": null,
      "outputs": []
    }
  ]
}